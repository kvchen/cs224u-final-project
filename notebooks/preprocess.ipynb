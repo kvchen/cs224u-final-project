{
 "cells": [
  {
   "cell_type": "code",
   "execution_count": 6,
   "metadata": {},
   "outputs": [],
   "source": [
    "import json"
   ]
  },
  {
   "cell_type": "code",
   "execution_count": 8,
   "metadata": {},
   "outputs": [],
   "source": [
    "valid_subreddits = {\n",
    "    'worldnews',\n",
    "}\n",
    "\n",
    "with open('../datasets/RC_2018-02-28', 'r') as infile, open('../datasets/RC_2018-02-28.filtered', 'w') as outfile:\n",
    "    while True:\n",
    "        line = infile.readline()\n",
    "        if not line:\n",
    "            break\n",
    "        \n",
    "        comment = json.loads(line)\n",
    "\n",
    "        if comment['subreddit'] in valid_subreddits:\n",
    "            outfile.write(line)"
   ]
  },
  {
   "cell_type": "code",
   "execution_count": null,
   "metadata": {},
   "outputs": [],
   "source": []
  }
 ],
 "metadata": {
  "kernelspec": {
   "display_name": "jupyter3_Python_3",
   "language": "python",
   "name": "jupyter3_python_3"
  },
  "language_info": {
   "codemirror_mode": {
    "name": "ipython",
    "version": 3
   },
   "file_extension": ".py",
   "mimetype": "text/x-python",
   "name": "python",
   "nbconvert_exporter": "python",
   "pygments_lexer": "ipython3",
   "version": "3.6.5"
  }
 },
 "nbformat": 4,
 "nbformat_minor": 2
}
