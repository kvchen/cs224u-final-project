{
 "cells": [
  {
   "cell_type": "code",
   "execution_count": 1,
   "metadata": {
    "collapsed": true
   },
   "outputs": [],
   "source": [
    "import pandas as pd\n",
    "from collections import defaultdict"
   ]
  },
  {
   "cell_type": "code",
   "execution_count": 4,
   "metadata": {
    "collapsed": true
   },
   "outputs": [],
   "source": [
    "DATASET_PATH = '../datasets/RC_2018-02-28.xz'"
   ]
  },
  {
   "cell_type": "code",
   "execution_count": null,
   "metadata": {
    "collapsed": false
   },
   "outputs": [],
   "source": [
    "df = pd.read_json(DATASET_PATH, lines=True, chunksize=100).read()\n",
    "# not sure if this is necessary/detrimental\n",
    "df = df[(df.body != '[deleted]') & (df.body != '[removed]')]"
   ]
  },
  {
   "cell_type": "markdown",
   "metadata": {},
   "source": [
    "Possible sentiment features: SentiStrength, Vader-Sentiment, LIWC. Both SentiStrength and LIWC are proprietary. LIWC also can be used to give many different psychological and language dimensions (if only it weren't proprietary).\n",
    "\n",
    "TODO: learned Naive Bayes classifier"
   ]
  },
  {
   "cell_type": "code",
   "execution_count": null,
   "metadata": {
    "collapsed": false
   },
   "outputs": [],
   "source": [
    "from vaderSentiment.vaderSentiment import SentimentIntensityAnalyzer\n",
    "\n",
    "def vader_features(analyzer, body):\n",
    "    vs = analyzer.polarity_scores(body)\n",
    "    return {'vad_'+k: v for k, v in vs.items()}"
   ]
  },
  {
   "cell_type": "markdown",
   "metadata": {},
   "source": [
    "Readability features: word count, avg sentence length, avg word length, Gunning Fog, SMOG, Flesch-Kincaid. LIWC can give language features, but again is proprietary.\n",
    "\n",
    "TODO: COCA fluency"
   ]
  },
  {
   "cell_type": "code",
   "execution_count": null,
   "metadata": {
    "collapsed": true
   },
   "outputs": [],
   "source": [
    "import textstat\n",
    "\n",
    "def read_features(body):\n",
    "    d = defaultdict(float)\n",
    "    d['WC'] = textstat.lexicon_count(body)\n",
    "    d['WPS'] = textstat.avg_sentence_length(body)\n",
    "    d['WL'] = textstat.avg_letter_per_word(body)\n",
    "    d['GI'] = textstat.gunning_fog(body)\n",
    "    d['SMOG'] = textstat.smog_index(body)\n",
    "    d['FK'] = textstat.flesch_kincaid_grade(body)\n",
    "    return d"
   ]
  },
  {
   "cell_type": "code",
   "execution_count": null,
   "metadata": {
    "collapsed": true
   },
   "outputs": [],
   "source": [
    "import string\n",
    "from collections import Counter\n",
    "\n",
    "exclude = list(string.punctuation)\n",
    "\n",
    "def ttr_feature(body):\n",
    "    words = ''.join(ch for ch in body if ch not in exclude).split()\n",
    "    type_count = Counter(words)\n",
    "    return {'ttr': len(type_count) / float(sum(type_count.values()))}"
   ]
  },
  {
   "cell_type": "code",
   "execution_count": null,
   "metadata": {
    "collapsed": true
   },
   "outputs": [],
   "source": [
    "def all_features(comment):\n",
    "    features = defaultdict(float)\n",
    "\n",
    "    analyzer = SentimentIntensityAnalyzer()\n",
    "    features.update(vader_features(analyzer, comment.body))\n",
    "    \n",
    "    features.update(read_features(comment.body))\n",
    "    features.update(ttr_feature(comment.body))\n",
    "\n",
    "    return features"
   ]
  },
  {
   "cell_type": "code",
   "execution_count": null,
   "metadata": {
    "collapsed": true
   },
   "outputs": [],
   "source": [
    "for i in range(5):\n",
    "    f = all_features(df[i])\n",
    "    print(f)"
   ]
  },
  {
   "cell_type": "markdown",
   "metadata": {},
   "source": [
    "TODO: featurize each comment, make list of dicts, use sklearn.feature_extraction.DictVectorizer"
   ]
  }
 ],
 "metadata": {
  "anaconda-cloud": {},
  "kernelspec": {
   "display_name": "Python [conda root]",
   "language": "python",
   "name": "conda-root-py"
  },
  "language_info": {
   "codemirror_mode": {
    "name": "ipython",
    "version": 3
   },
   "file_extension": ".py",
   "mimetype": "text/x-python",
   "name": "python",
   "nbconvert_exporter": "python",
   "pygments_lexer": "ipython3",
   "version": "3.5.2"
  }
 },
 "nbformat": 4,
 "nbformat_minor": 1
}
