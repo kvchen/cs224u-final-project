{
 "cells": [
  {
   "cell_type": "code",
   "execution_count": 16,
   "metadata": {},
   "outputs": [],
   "source": [
    "import json\n",
    "import os\n",
    "import matplotlib\n",
    "import matplotlib.pyplot as plt\n",
    "import nltk\n",
    "import numpy as np\n",
    "import pandas as pd\n",
    "import tensorflow as tf\n",
    "import seaborn as sns\n",
    "\n",
    "from collections import namedtuple\n",
    "from tqdm import tqdm\n",
    "\n",
    "sns.set()"
   ]
  },
  {
   "cell_type": "code",
   "execution_count": 2,
   "metadata": {},
   "outputs": [],
   "source": [
    "data_prefix = \"../datasets\"\n",
    "comment_dataset = \"RC_2018-02-28.filtered\"\n",
    "glove_dim = 200"
   ]
  },
  {
   "cell_type": "code",
   "execution_count": 3,
   "metadata": {},
   "outputs": [],
   "source": [
    "comment_dataset_path = os.path.join(data_prefix, comment_dataset)"
   ]
  },
  {
   "cell_type": "code",
   "execution_count": 4,
   "metadata": {},
   "outputs": [],
   "source": [
    "comments_df = pd.read_json(comment_dataset_path, lines=True, chunksize=1e4).read()\n",
    "controversial_comments_df = comments_df[\n",
    "    (comments_df.controversiality != 0) &\n",
    "    (comments_df.body != '[deleted]') &\n",
    "    (comments_df.body != '[removed]')\n",
    "]"
   ]
  },
  {
   "cell_type": "code",
   "execution_count": 7,
   "metadata": {},
   "outputs": [
    {
     "data": {
      "text/plain": [
       "Text(0.5,1,'Comment lengths')"
      ]
     },
     "execution_count": 7,
     "metadata": {},
     "output_type": "execute_result"
    },
    {
     "data": {
      "image/png": "[encoded data removed]",
      "text/plain": [
       "<Figure size 432x288 with 1 Axes>"
      ]
     },
     "metadata": {},
     "output_type": "display_data"
    }
   ],
   "source": [
    "comment_lens = comments_df['body'].apply(nltk.tokenize.word_tokenize).str.len()\n",
    "controversial_comments_lens = controversial_comments_df['body'].apply(nltk.tokenize.word_tokenize).str.len()\n",
    "\n",
    "plt.figure()\n",
    "comment_lens.plot.hist(bins=50)\n",
    "controversial_comments_lens.plot.hist(bins=50)\n",
    "plt.title('Comment lengths')"
   ]
  },
  {
   "cell_type": "code",
   "execution_count": 13,
   "metadata": {},
   "outputs": [],
   "source": [
    "# Parse GloVe vectors\n",
    "\n",
    "PAD_TOKEN = b\"<PAD>\"\n",
    "PAD_ID = 0\n",
    "\n",
    "UNK_TOKEN = b\"<UNK>\"\n",
    "UNK_ID = 1\n",
    "\n",
    "def get_glove(glove_dim, vocab_size=4e5):    \n",
    "    initial_vocab = [PAD_TOKEN, UNK_TOKEN]\n",
    "    embed_matrix = np.zeros((int(vocab_size + len(initial_vocab)), glove_dim))\n",
    "    word2id = {word: idx for idx, word in enumerate(initial_vocab)}\n",
    "    \n",
    "    glove_path = os.path.join(data_prefix, 'glove.6B', f\"glove.6B.{glove_dim}d.txt\")\n",
    "    \n",
    "    with open(glove_path, 'r') as infile:        \n",
    "        for idx, line in enumerate(tqdm(infile, total=vocab_size)):\n",
    "            idx_offset = idx + len(initial_vocab)\n",
    "            \n",
    "            word, word_vec_raw = line.strip().split(maxsplit=1)\n",
    "            word_vec = np.array([float(v) for v in word_vec_raw.split()])\n",
    "            \n",
    "            embed_matrix[idx_offset, :] = word_vec\n",
    "            word2id[word] = idx_offset\n",
    "    \n",
    "    id2word = {v: k for k, v in word2id.items()}\n",
    "    return embed_matrix, word2id, id2word"
   ]
  },
  {
   "cell_type": "code",
   "execution_count": 14,
   "metadata": {},
   "outputs": [
    {
     "name": "stderr",
     "output_type": "stream",
     "text": [
      "100%|██████████| 400000/400000.0 [00:48<00:00, 8245.37it/s]\n"
     ]
    }
   ],
   "source": [
    "embed_matrix, word2id, id2word = get_glove(glove_dim)"
   ]
  },
  {
   "cell_type": "code",
   "execution_count": 23,
   "metadata": {},
   "outputs": [
    {
     "data": {
      "text/plain": [
       "array([1, 1, 1, 1, 1, 1, 1, 1, 1, 1, 1, 1, 1, 1, 1, 1, 1, 1, 1, 1, 1, 1,\n",
       "       1, 1, 1, 1, 1, 1, 1, 1, 1, 1, 1, 1, 1, 1, 1, 1, 1, 1, 1, 1, 1, 1,\n",
       "       1, 1, 1, 1, 1, 0, 0, 0, 0, 0, 0, 0, 0, 0, 0, 0, 0, 0, 0, 0, 0, 0,\n",
       "       0, 0, 0, 0, 0, 0, 0, 0, 0, 0, 0, 0, 0, 0, 0, 0, 0, 0, 0, 0, 0, 0,\n",
       "       0, 0, 0, 0, 0, 0, 0, 0, 0, 0, 0, 0, 0, 0, 0, 0, 0, 0, 0, 0, 0, 0,\n",
       "       0, 0, 0, 0, 0, 0, 0, 0, 0, 0, 0, 0, 0, 0, 0, 0, 0, 0, 0, 0, 0, 0,\n",
       "       0, 0, 0, 0, 0, 0, 0, 0, 0, 0, 0, 0, 0, 0, 0, 0, 0, 0, 0, 0, 0, 0,\n",
       "       0, 0, 0, 0, 0, 0, 0, 0, 0, 0, 0, 0, 0, 0, 0, 0, 0, 0, 0, 0, 0, 0,\n",
       "       0, 0, 0, 0, 0, 0, 0, 0, 0, 0, 0, 0, 0, 0, 0, 0, 0, 0, 0, 0, 0, 0,\n",
       "       0, 0], dtype=int32)"
      ]
     },
     "execution_count": 23,
     "metadata": {},
     "output_type": "execute_result"
    }
   ],
   "source": [
    "Batch = namedtuple('Batch', ['comment_tokens', 'comment_ids', 'comment_masks', 'controversialities'])\n",
    "\n",
    "def parse_comment(comment, word2id, max_comment_len=200):\n",
    "    comment_tokens = nltk.tokenize.word_tokenize(comment['body'])[:max_comment_len]\n",
    "    if len(comment_tokens) < max_comment_len:\n",
    "        comment_tokens += [PAD_TOKEN] * (max_comment_len - len(comment_tokens))\n",
    "    \n",
    "    comment_ids = np.array([word2id.get(token, UNK_ID) for token in comment_tokens])\n",
    "    comment_mask = (comment_ids != PAD_ID).astype(np.int32)\n",
    "    \n",
    "    controversiality = comment['controversiality']\n",
    "    return (comment_tokens, comment_ids, comment_mask, controversiality)\n",
    "    \n",
    "    \n",
    "def create_batch(parsed_comments):\n",
    "    grouped = list(zip(*parsed_comments))\n",
    "    return Batch(\n",
    "        comment_tokens=grouped[0],\n",
    "        comment_ids=np.array(grouped[1]),\n",
    "        comment_masks=np.array(grouped[2]),\n",
    "        controversialities=np.array(grouped[3]),\n",
    "    )\n",
    "    \n",
    "\n",
    "def generate_batches(dataset_path, word2id, batch_size=100):\n",
    "    \"\"\"An infinite generator of batches. Just keeps looping through\n",
    "    the training dataset forever, generating batches.\n",
    "    \"\"\"\n",
    "    parsed_comments = []\n",
    "    \n",
    "    while True:\n",
    "        with open(dataset_path, 'r') as infile:\n",
    "            parsed_comments = []\n",
    "            for idx, line in enumerate(infile):\n",
    "                comment = json.loads(line)\n",
    "                parsed_comments.append(parse_comment(comment, word2id))\n",
    "                \n",
    "                if len(parsed_comments) == batch_size:\n",
    "                    batch = create_batch(parsed_comments)\n",
    "                    parsed_comments = []\n",
    "                    yield batch\n",
    "\n",
    "test = generate_batches(comment_dataset_path, word2id)"
   ]
  },
  {
   "cell_type": "code",
   "execution_count": null,
   "metadata": {},
   "outputs": [],
   "source": []
  }
 ],
 "metadata": {
  "kernelspec": {
   "display_name": "jupyter3_Python_3",
   "language": "python",
   "name": "jupyter3_python_3"
  },
  "language_info": {
   "codemirror_mode": {
    "name": "ipython",
    "version": 3
   },
   "file_extension": ".py",
   "mimetype": "text/x-python",
   "name": "python",
   "nbconvert_exporter": "python",
   "pygments_lexer": "ipython3",
   "version": "3.6.5"
  }
 },
 "nbformat": 4,
 "nbformat_minor": 2
}
