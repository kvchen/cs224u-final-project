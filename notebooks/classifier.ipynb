{
 "cells": [
  {
   "cell_type": "code",
   "execution_count": 1,
   "metadata": {},
   "outputs": [],
   "source": [
    "import json\n",
    "import os\n",
    "import matplotlib\n",
    "import matplotlib.pyplot as plt\n",
    "import nltk\n",
    "import numpy as np\n",
    "import pandas as pd\n",
    "import tensorflow as tf\n",
    "import time\n",
    "import seaborn as sns\n",
    "\n",
    "from collections import namedtuple\n",
    "from tqdm import tqdm, trange\n",
    "\n",
    "sns.set()"
   ]
  },
  {
   "cell_type": "code",
   "execution_count": 2,
   "metadata": {},
   "outputs": [],
   "source": [
    "data_prefix = \"../datasets\"\n",
    "comment_dataset = \"RC_2018-02-28.filtered\"\n",
    "glove_dim = 200\n",
    "batch_size = 100\n",
    "max_comment_len = 200"
   ]
  },
  {
   "cell_type": "code",
   "execution_count": 3,
   "metadata": {},
   "outputs": [],
   "source": [
    "comment_dataset_path = os.path.join(data_prefix, comment_dataset)"
   ]
  },
  {
   "cell_type": "code",
   "execution_count": 4,
   "metadata": {},
   "outputs": [],
   "source": [
    "comments_df = pd.read_json(comment_dataset_path, lines=True, chunksize=1e4).read()\n",
    "controversial_comments_df = comments_df[\n",
    "    (comments_df.controversiality != 0) &\n",
    "    (comments_df.body != '[deleted]') &\n",
    "    (comments_df.body != '[removed]')\n",
    "]"
   ]
  },
  {
   "cell_type": "code",
   "execution_count": 5,
   "metadata": {},
   "outputs": [
    {
     "data": {
      "text/plain": [
       "Text(0.5,1,'Comment lengths')"
      ]
     },
     "execution_count": 5,
     "metadata": {},
     "output_type": "execute_result"
    },
    {
     "data": {
      "image/png": "[encoded data removed]",
      "text/plain": [
       "<Figure size 432x288 with 1 Axes>"
      ]
     },
     "metadata": {},
     "output_type": "display_data"
    }
   ],
   "source": [
    "comment_lens = comments_df['body'].apply(nltk.tokenize.word_tokenize).str.len()\n",
    "controversial_comments_lens = controversial_comments_df['body'].apply(nltk.tokenize.word_tokenize).str.len()\n",
    "\n",
    "plt.figure()\n",
    "comment_lens.plot.hist(bins=50)\n",
    "controversial_comments_lens.plot.hist(bins=50)\n",
    "plt.title('Comment lengths')"
   ]
  },
  {
   "cell_type": "code",
   "execution_count": 6,
   "metadata": {},
   "outputs": [],
   "source": [
    "# Parse GloVe vectors\n",
    "\n",
    "PAD_TOKEN = b\"<PAD>\"\n",
    "PAD_ID = 0\n",
    "\n",
    "UNK_TOKEN = b\"<UNK>\"\n",
    "UNK_ID = 1\n",
    "\n",
    "def get_glove(glove_dim, vocab_size=4e5):    \n",
    "    initial_vocab = [PAD_TOKEN, UNK_TOKEN]\n",
    "    embed_matrix = np.zeros((int(vocab_size + len(initial_vocab)), glove_dim))\n",
    "    word2id = {word: idx for idx, word in enumerate(initial_vocab)}\n",
    "    \n",
    "    glove_path = os.path.join(data_prefix, 'glove.6B', f\"glove.6B.{glove_dim}d.txt\")\n",
    "    \n",
    "    with open(glove_path, 'r') as infile:        \n",
    "        for idx, line in enumerate(tqdm(infile, total=vocab_size)):\n",
    "            idx_offset = idx + len(initial_vocab)\n",
    "            \n",
    "            word, word_vec_raw = line.strip().split(maxsplit=1)\n",
    "            word_vec = np.array([float(v) for v in word_vec_raw.split()])\n",
    "            \n",
    "            embed_matrix[idx_offset, :] = word_vec\n",
    "            word2id[word] = idx_offset\n",
    "    \n",
    "    id2word = {v: k for k, v in word2id.items()}\n",
    "    return embed_matrix, word2id, id2word"
   ]
  },
  {
   "cell_type": "code",
   "execution_count": 7,
   "metadata": {},
   "outputs": [
    {
     "name": "stderr",
     "output_type": "stream",
     "text": [
      "100%|██████████| 400000/400000.0 [00:21<00:00, 18896.83it/s]\n"
     ]
    }
   ],
   "source": [
    "embed_matrix, word2id, id2word = get_glove(glove_dim)"
   ]
  },
  {
   "cell_type": "code",
   "execution_count": 8,
   "metadata": {},
   "outputs": [],
   "source": [
    "Batch = namedtuple(\n",
    "    'Batch',\n",
    "    ['comment_tokens', 'comment_ids', 'comment_masks', 'controversialities'],\n",
    ")\n",
    "\n",
    "def parse_comment(comment, word2id, max_comment_len):\n",
    "    comment_tokens = nltk.tokenize.word_tokenize(comment['body'])[:max_comment_len]\n",
    "    if len(comment_tokens) < max_comment_len:\n",
    "        comment_tokens += [PAD_TOKEN] * (max_comment_len - len(comment_tokens))\n",
    "    \n",
    "    comment_ids = np.array([word2id.get(token, UNK_ID) for token in comment_tokens])\n",
    "    comment_mask = (comment_ids != PAD_ID).astype(np.int32)\n",
    "    \n",
    "    controversiality = comment['controversiality']\n",
    "    return (comment_tokens, comment_ids, comment_mask, controversiality)\n",
    "    \n",
    "    \n",
    "def create_batch(parsed_comments):\n",
    "    grouped = list(zip(*parsed_comments))\n",
    "    return Batch(\n",
    "        comment_tokens=grouped[0],\n",
    "        comment_ids=np.array(grouped[1]),\n",
    "        comment_masks=np.array(grouped[2]),\n",
    "        controversialities=np.array(grouped[3]).reshape(-1, 1),\n",
    "    )\n",
    "    \n",
    "\n",
    "def generate_batches(dataset_path, word2id, batch_size=100, max_comment_len=200):\n",
    "    \"\"\"An infinite generator of batches. Just keeps looping through\n",
    "    the training dataset forever, generating batches.\n",
    "    \"\"\"\n",
    "    parsed_comments = []\n",
    "    \n",
    "    while True:\n",
    "        with open(dataset_path, 'r') as infile:\n",
    "            parsed_comments = []\n",
    "            for idx, line in enumerate(infile):\n",
    "                comment = json.loads(line)\n",
    "                parsed_comments.append(parse_comment(comment, word2id, max_comment_len))\n",
    "                \n",
    "                if len(parsed_comments) == batch_size:\n",
    "                    batch = create_batch(parsed_comments)\n",
    "                    parsed_comments = []\n",
    "                    yield batch"
   ]
  },
  {
   "cell_type": "code",
   "execution_count": 9,
   "metadata": {},
   "outputs": [],
   "source": [
    "batch_generator = generate_batches(\n",
    "    comment_dataset_path,\n",
    "    word2id,\n",
    "    batch_size,\n",
    "    max_comment_len,\n",
    ")"
   ]
  },
  {
   "cell_type": "markdown",
   "metadata": {},
   "source": [
    "Model training time!"
   ]
  },
  {
   "cell_type": "code",
   "execution_count": 10,
   "metadata": {},
   "outputs": [],
   "source": [
    "def masked_softmax(logits, mask, dim):\n",
    "    exp_mask = (1 - tf.cast(mask, 'float')) * -1e30\n",
    "    masked_logits = tf.add(logits, exp_mask)\n",
    "    prob_dist = tf.nn.softmax(masked_logits, dim)\n",
    "    return masked_logits, prob_dist"
   ]
  },
  {
   "cell_type": "code",
   "execution_count": 11,
   "metadata": {},
   "outputs": [],
   "source": [
    "tf.reset_default_graph()\n",
    "\n",
    "# Placeholders\n",
    "\n",
    "comments = tf.placeholder(tf.int32, (None, max_comment_len), name=\"comments\")\n",
    "comment_masks = tf.placeholder(tf.int32, (None, max_comment_len), name=\"comment_masks\")\n",
    "labels = tf.placeholder(tf.int32, (None, 1), name=\"labels\")\n",
    "\n",
    "# Embedding lookup\n",
    "\n",
    "with tf.variable_scope('embed'):\n",
    "    tf_embed_matrix = tf.constant(\n",
    "        embed_matrix,\n",
    "        dtype=tf.float32,\n",
    "        name=\"embed_matrix\"\n",
    "    )\n",
    "    comment_vecs = tf.nn.embedding_lookup(tf_embed_matrix, comments)\n",
    "\n",
    "# RNN\n",
    "\n",
    "lstm_cell_size = 64\n",
    "keep_prob = 0.75\n",
    "\n",
    "with tf.variable_scope('lstm'):\n",
    "    lstm_forward = tf.contrib.rnn.BasicLSTMCell(lstm_cell_size)\n",
    "    lstm_backward = tf.contrib.rnn.BasicLSTMCell(lstm_cell_size)\n",
    "\n",
    "    # out = tf.nn.dynamic_rnn(lstm_forward, comment_vecs, dtype=tf.float64)\n",
    "    (fw_out, bw_out), _ = tf.nn.bidirectional_dynamic_rnn(\n",
    "        lstm_forward,\n",
    "        lstm_backward,\n",
    "        comment_vecs,\n",
    "        sequence_length=tf.reduce_sum(comment_masks, axis=1),\n",
    "        dtype=tf.float32,\n",
    "    )\n",
    "    \n",
    "    rnn_out = tf.concat([fw_out, bw_out], axis=2)[:, -1, :]\n",
    "    rnn_out = tf.nn.dropout(rnn_out, keep_prob)\n",
    "    \n",
    "with tf.variable_scope('output'):\n",
    "    logits = tf.contrib.layers.fully_connected(\n",
    "        rnn_out,\n",
    "        num_outputs=2,\n",
    "        activation_fn=None,\n",
    "    )\n",
    "\n",
    "# Loss optimization\n",
    "\n",
    "cross_entropy = tf.nn.softmax_cross_entropy_with_logits_v2(logits=logits, labels=labels)\n",
    "loss = tf.reduce_mean(cross_entropy)\n",
    "\n",
    "optimizer = tf.train.AdamOptimizer()\n",
    "train_op = optimizer.minimize(loss)  # what the fuck?\n",
    "\n",
    "# Check accuracy\n",
    "\n",
    "correct = tf.equal(tf.argmax(logits, 1, output_type=tf.int32), labels)\n",
    "accuracy = tf.reduce_mean(tf.cast(correct, tf.float32))\n",
    "\n",
    "tf.summary.scalar('Loss', loss)\n",
    "tf.summary.scalar('Accuracy', accuracy)\n",
    "summary_op = tf.summary.merge_all()"
   ]
  },
  {
   "cell_type": "code",
   "execution_count": 12,
   "metadata": {},
   "outputs": [
    {
     "name": "stderr",
     "output_type": "stream",
     "text": [
      " 19%|█▊        | 1870/10000 [07:50<34:05,  3.97it/s]"
     ]
    },
    {
     "ename": "KeyboardInterrupt",
     "evalue": "",
     "output_type": "error",
     "traceback": [
      "\u001b[0;31m---------------------------------------------------------------------------\u001b[0m",
      "\u001b[0;31mKeyboardInterrupt\u001b[0m                         Traceback (most recent call last)",
      "\u001b[0;32m<ipython-input-12-e8ae76307ae1>\u001b[0m in \u001b[0;36m<module>\u001b[0;34m()\u001b[0m\n\u001b[1;32m     16\u001b[0m                 \u001b[0;34m\"comments:0\"\u001b[0m\u001b[0;34m:\u001b[0m \u001b[0mbatch\u001b[0m\u001b[0;34m.\u001b[0m\u001b[0mcomment_ids\u001b[0m\u001b[0;34m,\u001b[0m\u001b[0;34m\u001b[0m\u001b[0m\n\u001b[1;32m     17\u001b[0m                 \u001b[0;34m\"comment_masks:0\"\u001b[0m\u001b[0;34m:\u001b[0m \u001b[0mbatch\u001b[0m\u001b[0;34m.\u001b[0m\u001b[0mcomment_masks\u001b[0m\u001b[0;34m,\u001b[0m\u001b[0;34m\u001b[0m\u001b[0m\n\u001b[0;32m---> 18\u001b[0;31m                 \u001b[0;34m\"labels:0\"\u001b[0m\u001b[0;34m:\u001b[0m \u001b[0mbatch\u001b[0m\u001b[0;34m.\u001b[0m\u001b[0mcontroversialities\u001b[0m\u001b[0;34m,\u001b[0m\u001b[0;34m\u001b[0m\u001b[0m\n\u001b[0m\u001b[1;32m     19\u001b[0m             }\n\u001b[1;32m     20\u001b[0m         )        \n",
      "\u001b[0;32m~/code/cs224u-final-project/.env/lib/python3.6/site-packages/tensorflow/python/client/session.py\u001b[0m in \u001b[0;36mrun\u001b[0;34m(self, fetches, feed_dict, options, run_metadata)\u001b[0m\n\u001b[1;32m    898\u001b[0m     \u001b[0;32mtry\u001b[0m\u001b[0;34m:\u001b[0m\u001b[0;34m\u001b[0m\u001b[0m\n\u001b[1;32m    899\u001b[0m       result = self._run(None, fetches, feed_dict, options_ptr,\n\u001b[0;32m--> 900\u001b[0;31m                          run_metadata_ptr)\n\u001b[0m\u001b[1;32m    901\u001b[0m       \u001b[0;32mif\u001b[0m \u001b[0mrun_metadata\u001b[0m\u001b[0;34m:\u001b[0m\u001b[0;34m\u001b[0m\u001b[0m\n\u001b[1;32m    902\u001b[0m         \u001b[0mproto_data\u001b[0m \u001b[0;34m=\u001b[0m \u001b[0mtf_session\u001b[0m\u001b[0;34m.\u001b[0m\u001b[0mTF_GetBuffer\u001b[0m\u001b[0;34m(\u001b[0m\u001b[0mrun_metadata_ptr\u001b[0m\u001b[0;34m)\u001b[0m\u001b[0;34m\u001b[0m\u001b[0m\n",
      "\u001b[0;32m~/code/cs224u-final-project/.env/lib/python3.6/site-packages/tensorflow/python/client/session.py\u001b[0m in \u001b[0;36m_run\u001b[0;34m(self, handle, fetches, feed_dict, options, run_metadata)\u001b[0m\n\u001b[1;32m   1133\u001b[0m     \u001b[0;32mif\u001b[0m \u001b[0mfinal_fetches\u001b[0m \u001b[0;32mor\u001b[0m \u001b[0mfinal_targets\u001b[0m \u001b[0;32mor\u001b[0m \u001b[0;34m(\u001b[0m\u001b[0mhandle\u001b[0m \u001b[0;32mand\u001b[0m \u001b[0mfeed_dict_tensor\u001b[0m\u001b[0;34m)\u001b[0m\u001b[0;34m:\u001b[0m\u001b[0;34m\u001b[0m\u001b[0m\n\u001b[1;32m   1134\u001b[0m       results = self._do_run(handle, final_targets, final_fetches,\n\u001b[0;32m-> 1135\u001b[0;31m                              feed_dict_tensor, options, run_metadata)\n\u001b[0m\u001b[1;32m   1136\u001b[0m     \u001b[0;32melse\u001b[0m\u001b[0;34m:\u001b[0m\u001b[0;34m\u001b[0m\u001b[0m\n\u001b[1;32m   1137\u001b[0m       \u001b[0mresults\u001b[0m \u001b[0;34m=\u001b[0m \u001b[0;34m[\u001b[0m\u001b[0;34m]\u001b[0m\u001b[0;34m\u001b[0m\u001b[0m\n",
      "\u001b[0;32m~/code/cs224u-final-project/.env/lib/python3.6/site-packages/tensorflow/python/client/session.py\u001b[0m in \u001b[0;36m_do_run\u001b[0;34m(self, handle, target_list, fetch_list, feed_dict, options, run_metadata)\u001b[0m\n\u001b[1;32m   1314\u001b[0m     \u001b[0;32mif\u001b[0m \u001b[0mhandle\u001b[0m \u001b[0;32mis\u001b[0m \u001b[0;32mNone\u001b[0m\u001b[0;34m:\u001b[0m\u001b[0;34m\u001b[0m\u001b[0m\n\u001b[1;32m   1315\u001b[0m       return self._do_call(_run_fn, feeds, fetches, targets, options,\n\u001b[0;32m-> 1316\u001b[0;31m                            run_metadata)\n\u001b[0m\u001b[1;32m   1317\u001b[0m     \u001b[0;32melse\u001b[0m\u001b[0;34m:\u001b[0m\u001b[0;34m\u001b[0m\u001b[0m\n\u001b[1;32m   1318\u001b[0m       \u001b[0;32mreturn\u001b[0m \u001b[0mself\u001b[0m\u001b[0;34m.\u001b[0m\u001b[0m_do_call\u001b[0m\u001b[0;34m(\u001b[0m\u001b[0m_prun_fn\u001b[0m\u001b[0;34m,\u001b[0m \u001b[0mhandle\u001b[0m\u001b[0;34m,\u001b[0m \u001b[0mfeeds\u001b[0m\u001b[0;34m,\u001b[0m \u001b[0mfetches\u001b[0m\u001b[0;34m)\u001b[0m\u001b[0;34m\u001b[0m\u001b[0m\n",
      "\u001b[0;32m~/code/cs224u-final-project/.env/lib/python3.6/site-packages/tensorflow/python/client/session.py\u001b[0m in \u001b[0;36m_do_call\u001b[0;34m(self, fn, *args)\u001b[0m\n\u001b[1;32m   1320\u001b[0m   \u001b[0;32mdef\u001b[0m \u001b[0m_do_call\u001b[0m\u001b[0;34m(\u001b[0m\u001b[0mself\u001b[0m\u001b[0;34m,\u001b[0m \u001b[0mfn\u001b[0m\u001b[0;34m,\u001b[0m \u001b[0;34m*\u001b[0m\u001b[0margs\u001b[0m\u001b[0;34m)\u001b[0m\u001b[0;34m:\u001b[0m\u001b[0;34m\u001b[0m\u001b[0m\n\u001b[1;32m   1321\u001b[0m     \u001b[0;32mtry\u001b[0m\u001b[0;34m:\u001b[0m\u001b[0;34m\u001b[0m\u001b[0m\n\u001b[0;32m-> 1322\u001b[0;31m       \u001b[0;32mreturn\u001b[0m \u001b[0mfn\u001b[0m\u001b[0;34m(\u001b[0m\u001b[0;34m*\u001b[0m\u001b[0margs\u001b[0m\u001b[0;34m)\u001b[0m\u001b[0;34m\u001b[0m\u001b[0m\n\u001b[0m\u001b[1;32m   1323\u001b[0m     \u001b[0;32mexcept\u001b[0m \u001b[0merrors\u001b[0m\u001b[0;34m.\u001b[0m\u001b[0mOpError\u001b[0m \u001b[0;32mas\u001b[0m \u001b[0me\u001b[0m\u001b[0;34m:\u001b[0m\u001b[0;34m\u001b[0m\u001b[0m\n\u001b[1;32m   1324\u001b[0m       \u001b[0mmessage\u001b[0m \u001b[0;34m=\u001b[0m \u001b[0mcompat\u001b[0m\u001b[0;34m.\u001b[0m\u001b[0mas_text\u001b[0m\u001b[0;34m(\u001b[0m\u001b[0me\u001b[0m\u001b[0;34m.\u001b[0m\u001b[0mmessage\u001b[0m\u001b[0;34m)\u001b[0m\u001b[0;34m\u001b[0m\u001b[0m\n",
      "\u001b[0;32m~/code/cs224u-final-project/.env/lib/python3.6/site-packages/tensorflow/python/client/session.py\u001b[0m in \u001b[0;36m_run_fn\u001b[0;34m(feed_dict, fetch_list, target_list, options, run_metadata)\u001b[0m\n\u001b[1;32m   1305\u001b[0m       \u001b[0mself\u001b[0m\u001b[0;34m.\u001b[0m\u001b[0m_extend_graph\u001b[0m\u001b[0;34m(\u001b[0m\u001b[0;34m)\u001b[0m\u001b[0;34m\u001b[0m\u001b[0m\n\u001b[1;32m   1306\u001b[0m       return self._call_tf_sessionrun(\n\u001b[0;32m-> 1307\u001b[0;31m           options, feed_dict, fetch_list, target_list, run_metadata)\n\u001b[0m\u001b[1;32m   1308\u001b[0m \u001b[0;34m\u001b[0m\u001b[0m\n\u001b[1;32m   1309\u001b[0m     \u001b[0;32mdef\u001b[0m \u001b[0m_prun_fn\u001b[0m\u001b[0;34m(\u001b[0m\u001b[0mhandle\u001b[0m\u001b[0;34m,\u001b[0m \u001b[0mfeed_dict\u001b[0m\u001b[0;34m,\u001b[0m \u001b[0mfetch_list\u001b[0m\u001b[0;34m)\u001b[0m\u001b[0;34m:\u001b[0m\u001b[0;34m\u001b[0m\u001b[0m\n",
      "\u001b[0;32m~/code/cs224u-final-project/.env/lib/python3.6/site-packages/tensorflow/python/client/session.py\u001b[0m in \u001b[0;36m_call_tf_sessionrun\u001b[0;34m(self, options, feed_dict, fetch_list, target_list, run_metadata)\u001b[0m\n\u001b[1;32m   1407\u001b[0m       return tf_session.TF_SessionRun_wrapper(\n\u001b[1;32m   1408\u001b[0m           \u001b[0mself\u001b[0m\u001b[0;34m.\u001b[0m\u001b[0m_session\u001b[0m\u001b[0;34m,\u001b[0m \u001b[0moptions\u001b[0m\u001b[0;34m,\u001b[0m \u001b[0mfeed_dict\u001b[0m\u001b[0;34m,\u001b[0m \u001b[0mfetch_list\u001b[0m\u001b[0;34m,\u001b[0m \u001b[0mtarget_list\u001b[0m\u001b[0;34m,\u001b[0m\u001b[0;34m\u001b[0m\u001b[0m\n\u001b[0;32m-> 1409\u001b[0;31m           run_metadata)\n\u001b[0m\u001b[1;32m   1410\u001b[0m     \u001b[0;32melse\u001b[0m\u001b[0;34m:\u001b[0m\u001b[0;34m\u001b[0m\u001b[0m\n\u001b[1;32m   1411\u001b[0m       \u001b[0;32mwith\u001b[0m \u001b[0merrors\u001b[0m\u001b[0;34m.\u001b[0m\u001b[0mraise_exception_on_not_ok_status\u001b[0m\u001b[0;34m(\u001b[0m\u001b[0;34m)\u001b[0m \u001b[0;32mas\u001b[0m \u001b[0mstatus\u001b[0m\u001b[0;34m:\u001b[0m\u001b[0;34m\u001b[0m\u001b[0m\n",
      "\u001b[0;31mKeyboardInterrupt\u001b[0m: "
     ]
    }
   ],
   "source": [
    "with tf.Session() as sess:\n",
    "    logdir = os.path.join('summary', str(int(time.time())))\n",
    "    writer = tf.summary.FileWriter(logdir, sess.graph)\n",
    "    saver = tf.train.Saver()\n",
    "    \n",
    "    sess.run(tf.global_variables_initializer())\n",
    "\n",
    "    for i in trange(int(1e4)):\n",
    "        batch = next(batch_generator)\n",
    "        _, summary = sess.run(\n",
    "            [train_op, summary_op],\n",
    "            {\n",
    "                \"comments:0\": batch.comment_ids,\n",
    "                \"comment_masks:0\": batch.comment_masks,\n",
    "                \"labels:0\": batch.controversialities,\n",
    "            }\n",
    "        )        \n",
    "        writer.add_summary(summary, i)"
   ]
  },
  {
   "cell_type": "code",
   "execution_count": null,
   "metadata": {},
   "outputs": [],
   "source": []
  }
 ],
 "metadata": {
  "kernelspec": {
   "display_name": "cs224u",
   "language": "python",
   "name": "cs224u"
  },
  "language_info": {
   "codemirror_mode": {
    "name": "ipython",
    "version": 3
   },
   "file_extension": ".py",
   "mimetype": "text/x-python",
   "name": "python",
   "nbconvert_exporter": "python",
   "pygments_lexer": "ipython3",
   "version": "3.6.4"
  }
 },
 "nbformat": 4,
 "nbformat_minor": 2
}
