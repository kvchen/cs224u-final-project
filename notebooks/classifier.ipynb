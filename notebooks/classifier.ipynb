{
 "cells": [
  {
   "cell_type": "code",
   "execution_count": 1,
   "metadata": {},
   "outputs": [],
   "source": [
    "import json\n",
    "import os\n",
    "import matplotlib\n",
    "import matplotlib.pyplot as plt\n",
    "import nltk\n",
    "import numpy as np\n",
    "import pandas as pd\n",
    "import tensorflow as tf\n",
    "import time\n",
    "import seaborn as sns\n",
    "\n",
    "from collections import namedtuple\n",
    "from tqdm import tqdm, trange\n",
    "\n",
    "sns.set()"
   ]
  },
  {
   "cell_type": "code",
   "execution_count": 2,
   "metadata": {},
   "outputs": [],
   "source": [
    "data_prefix = \"../datasets\"\n",
    "comment_dataset = \"RC_2018-02-28.filtered\"\n",
    "glove_dim = 200\n",
    "batch_size = 100\n",
    "max_comment_len = 200"
   ]
  },
  {
   "cell_type": "code",
   "execution_count": 3,
   "metadata": {},
   "outputs": [],
   "source": [
    "comment_dataset_path = os.path.join(data_prefix, comment_dataset)"
   ]
  },
  {
   "cell_type": "code",
   "execution_count": 4,
   "metadata": {},
   "outputs": [],
   "source": [
    "comments_df = pd.read_json(comment_dataset_path, lines=True, chunksize=1e4).read()\n",
    "controversial_comments_df = comments_df[\n",
    "    (comments_df.controversiality != 0) &\n",
    "    (comments_df.body != '[deleted]') &\n",
    "    (comments_df.body != '[removed]')\n",
    "]"
   ]
  },
  {
   "cell_type": "code",
   "execution_count": 5,
   "metadata": {},
   "outputs": [
    {
     "data": {
      "text/plain": [
       "Text(0.5,1,'Comment lengths')"
      ]
     },
     "execution_count": 5,
     "metadata": {},
     "output_type": "execute_result"
    },
    {
     "data": {
      "image/png": "[encoded data removed]",
      "text/plain": [
       "<Figure size 432x288 with 1 Axes>"
      ]
     },
     "metadata": {},
     "output_type": "display_data"
    }
   ],
   "source": [
    "comment_lens = comments_df['body'].apply(nltk.tokenize.word_tokenize).str.len()\n",
    "controversial_comments_lens = controversial_comments_df['body'].apply(nltk.tokenize.word_tokenize).str.len()\n",
    "\n",
    "plt.figure()\n",
    "comment_lens.plot.hist(bins=50)\n",
    "controversial_comments_lens.plot.hist(bins=50)\n",
    "plt.title('Comment lengths')"
   ]
  },
  {
   "cell_type": "code",
   "execution_count": 6,
   "metadata": {},
   "outputs": [],
   "source": [
    "# Parse GloVe vectors\n",
    "\n",
    "PAD_TOKEN = b\"<PAD>\"\n",
    "PAD_ID = 0\n",
    "\n",
    "UNK_TOKEN = b\"<UNK>\"\n",
    "UNK_ID = 1\n",
    "\n",
    "def get_glove(glove_dim, vocab_size=4e5):    \n",
    "    initial_vocab = [PAD_TOKEN, UNK_TOKEN]\n",
    "    embed_matrix = np.zeros((int(vocab_size + len(initial_vocab)), glove_dim))\n",
    "    word2id = {word: idx for idx, word in enumerate(initial_vocab)}\n",
    "    \n",
    "    glove_path = os.path.join(data_prefix, 'glove.6B', f\"glove.6B.{glove_dim}d.txt\")\n",
    "    \n",
    "    with open(glove_path, 'r') as infile:        \n",
    "        for idx, line in enumerate(tqdm(infile, total=vocab_size)):\n",
    "            idx_offset = idx + len(initial_vocab)\n",
    "            \n",
    "            word, word_vec_raw = line.strip().split(maxsplit=1)\n",
    "            word_vec = np.array([float(v) for v in word_vec_raw.split()])\n",
    "            \n",
    "            embed_matrix[idx_offset, :] = word_vec\n",
    "            word2id[word] = idx_offset\n",
    "    \n",
    "    id2word = {v: k for k, v in word2id.items()}\n",
    "    return embed_matrix, word2id, id2word"
   ]
  },
  {
   "cell_type": "code",
   "execution_count": 7,
   "metadata": {},
   "outputs": [
    {
     "name": "stderr",
     "output_type": "stream",
     "text": [
      "100%|██████████| 400000/400000.0 [00:42<00:00, 9475.13it/s]\n"
     ]
    }
   ],
   "source": [
    "embed_matrix, word2id, id2word = get_glove(glove_dim)"
   ]
  },
  {
   "cell_type": "code",
   "execution_count": 8,
   "metadata": {},
   "outputs": [],
   "source": [
    "Batch = namedtuple('Batch', ['comment_tokens', 'comment_ids', 'comment_masks', 'controversialities'])\n",
    "\n",
    "def parse_comment(comment, word2id, max_comment_len):\n",
    "    comment_tokens = nltk.tokenize.word_tokenize(comment['body'])[:max_comment_len]\n",
    "    if len(comment_tokens) < max_comment_len:\n",
    "        comment_tokens += [PAD_TOKEN] * (max_comment_len - len(comment_tokens))\n",
    "    \n",
    "    comment_ids = np.array([word2id.get(token, UNK_ID) for token in comment_tokens])\n",
    "    comment_mask = (comment_ids != PAD_ID).astype(np.int32)\n",
    "    \n",
    "    controversiality = comment['controversiality']\n",
    "    return (comment_tokens, comment_ids, comment_mask, controversiality)\n",
    "    \n",
    "    \n",
    "def create_batch(parsed_comments):\n",
    "    grouped = list(zip(*parsed_comments))\n",
    "    return Batch(\n",
    "        comment_tokens=grouped[0],\n",
    "        comment_ids=np.array(grouped[1]),\n",
    "        comment_masks=np.array(grouped[2]),\n",
    "        controversialities=np.array(grouped[3]).reshape(-1, 1),\n",
    "    )\n",
    "    \n",
    "\n",
    "def generate_batches(dataset_path, word2id, batch_size=100, max_comment_len=200):\n",
    "    \"\"\"An infinite generator of batches. Just keeps looping through\n",
    "    the training dataset forever, generating batches.\n",
    "    \"\"\"\n",
    "    parsed_comments = []\n",
    "    \n",
    "    while True:\n",
    "        with open(dataset_path, 'r') as infile:\n",
    "            parsed_comments = []\n",
    "            for idx, line in enumerate(infile):\n",
    "                comment = json.loads(line)\n",
    "                parsed_comments.append(parse_comment(comment, word2id, max_comment_len))\n",
    "                \n",
    "                if len(parsed_comments) == batch_size:\n",
    "                    batch = create_batch(parsed_comments)\n",
    "                    parsed_comments = []\n",
    "                    yield batch"
   ]
  },
  {
   "cell_type": "code",
   "execution_count": 9,
   "metadata": {},
   "outputs": [],
   "source": [
    "batch_generator = generate_batches(\n",
    "    comment_dataset_path,\n",
    "    word2id,\n",
    "    batch_size,\n",
    "    max_comment_len,\n",
    ")"
   ]
  },
  {
   "cell_type": "markdown",
   "metadata": {},
   "source": [
    "Model training time!"
   ]
  },
  {
   "cell_type": "code",
   "execution_count": 10,
   "metadata": {},
   "outputs": [],
   "source": [
    "def masked_softmax(logits, mask, dim):\n",
    "    exp_mask = (1 - tf.cast(mask, 'float')) * -1e30\n",
    "    masked_logits = tf.add(logits, exp_mask)\n",
    "    prob_dist = tf.nn.softmax(masked_logits, dim)\n",
    "    return masked_logits, prob_dist"
   ]
  },
  {
   "cell_type": "code",
   "execution_count": 11,
   "metadata": {},
   "outputs": [],
   "source": [
    "tf.reset_default_graph()\n",
    "\n",
    "# Placeholders\n",
    "\n",
    "comments = tf.placeholder(tf.int32, (None, max_comment_len))\n",
    "comment_masks = tf.placeholder(tf.int32, (None, max_comment_len))\n",
    "labels = tf.placeholder(tf.int32, (None, 1))\n",
    "\n",
    "# Embedding lookup\n",
    "\n",
    "with tf.variable_scope('embed'):\n",
    "    tf_embed_matrix = tf.constant(\n",
    "        embed_matrix,\n",
    "        dtype=tf.float32,\n",
    "        name=\"embed_matrix\"\n",
    "    )\n",
    "    comment_vecs = tf.nn.embedding_lookup(tf_embed_matrix, comments)\n",
    "\n",
    "# RNN\n",
    "\n",
    "lstm_cell_size = 64\n",
    "keep_prob = 0.75\n",
    "\n",
    "with tf.variable_scope('lstm'):\n",
    "    lstm_forward = tf.contrib.rnn.BasicLSTMCell(lstm_cell_size)\n",
    "    lstm_backward = tf.contrib.rnn.BasicLSTMCell(lstm_cell_size)\n",
    "\n",
    "    # out = tf.nn.dynamic_rnn(lstm_forward, comment_vecs, dtype=tf.float64)\n",
    "    (fw_out, bw_out), _ = tf.nn.bidirectional_dynamic_rnn(\n",
    "        lstm_forward,\n",
    "        lstm_backward,\n",
    "        comment_vecs,\n",
    "        sequence_length=tf.reduce_sum(comment_masks, axis=1),\n",
    "        dtype=tf.float32,\n",
    "    )\n",
    "    \n",
    "    rnn_out = tf.concat([fw_out, bw_out], axis=2)[:, -1, :]\n",
    "    rnn_out = tf.nn.dropout(rnn_out, keep_prob)\n",
    "    \n",
    "with tf.variable_scope('output'):\n",
    "    logits = tf.contrib.layers.fully_connected(\n",
    "        rnn_out,\n",
    "        num_outputs=2,\n",
    "        activation_fn=None,\n",
    "    )\n",
    "    \n",
    "# Loss optimization\n",
    "\n",
    "loss = tf.reduce_mean(\n",
    "    tf.nn.softmax_cross_entropy_with_logits_v2(logits=logits, labels=labels)\n",
    ")\n",
    "\n",
    "optimizer = tf.train.AdamOptimizer().minimize(loss)\n",
    "\n",
    "# Check accuracy\n",
    "\n",
    "correct = tf.equal(tf.argmax(logits, 1, output_type=tf.int32), labels)\n",
    "accuracy = tf.reduce_mean(tf.cast(correct, tf.float32))\n",
    "\n",
    "tf.summary.scalar('Loss', loss)\n",
    "tf.summary.scalar('Accuracy', accuracy)\n",
    "merged = tf.summary.merge_all()"
   ]
  },
  {
   "cell_type": "code",
   "execution_count": null,
   "metadata": {},
   "outputs": [
    {
     "name": "stderr",
     "output_type": "stream",
     "text": [
      "  8%|▊         | 759/10000 [13:06<2:39:41,  1.04s/it]"
     ]
    }
   ],
   "source": [
    "with tf.InteractiveSession() as sess:\n",
    "    logdir = os.path.join('summary', str(int(time.time())))\n",
    "    \n",
    "    with tf.summary.FileWriter(logdir, sess.graph) as writer:\n",
    "        saver = tf.train.Saver()\n",
    "        sess.run(tf.global_variables_initializer())\n",
    "\n",
    "        for i in trange(int(1e4)):\n",
    "            batch = next(batch_generator)\n",
    "            _, summary = sess.run(\n",
    "                [optimizer, merged],\n",
    "                {\n",
    "                    comments: batch.comment_ids,\n",
    "                    comment_masks: batch.comment_masks,\n",
    "                    labels: batch.controversialities,\n",
    "                }\n",
    "            )\n",
    "            writer.add_summary(summary, i)"
   ]
  },
  {
   "cell_type": "code",
   "execution_count": null,
   "metadata": {},
   "outputs": [],
   "source": []
  }
 ],
 "metadata": {
  "kernelspec": {
   "display_name": "jupyter3_Python_3",
   "language": "python",
   "name": "jupyter3_python_3"
  },
  "language_info": {
   "codemirror_mode": {
    "name": "ipython",
    "version": 3
   },
   "file_extension": ".py",
   "mimetype": "text/x-python",
   "name": "python",
   "nbconvert_exporter": "python",
   "pygments_lexer": "ipython3",
   "version": "3.6.5"
  }
 },
 "nbformat": 4,
 "nbformat_minor": 2
}
